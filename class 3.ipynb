{
 "cells": [
  {
   "cell_type": "code",
   "execution_count": 1,
   "id": "98d9e6d8-e899-4533-9105-ddd0b516ec83",
   "metadata": {},
   "outputs": [
    {
     "data": {
      "text/plain": [
       "['d', 't', '']"
      ]
     },
     "execution_count": 1,
     "metadata": {},
     "output_type": "execute_result"
    }
   ],
   "source": [
    "x=\"data\"\n",
    "x.split(\"a\")"
   ]
  },
  {
   "cell_type": "code",
   "execution_count": 3,
   "id": "a79bd460-9d77-4868-a7d8-b5bb4b52c233",
   "metadata": {},
   "outputs": [
    {
     "data": {
      "text/plain": [
       "2"
      ]
     },
     "execution_count": 3,
     "metadata": {},
     "output_type": "execute_result"
    }
   ],
   "source": [
    "x=\"milk dairy\"\n",
    "x.count(\"i\")"
   ]
  },
  {
   "cell_type": "code",
   "execution_count": 4,
   "id": "c3daa68f-e32b-4afa-8397-7a781aaf201e",
   "metadata": {},
   "outputs": [
    {
     "data": {
      "text/plain": [
       "'mzzlk dazzry'"
      ]
     },
     "execution_count": 4,
     "metadata": {},
     "output_type": "execute_result"
    }
   ],
   "source": [
    "x=\"milk dairy\"\n",
    "x.replace(\"i\",\"zz\")"
   ]
  },
  {
   "cell_type": "code",
   "execution_count": 5,
   "id": "c8559829-2b71-4362-882d-3ad27a55b8f0",
   "metadata": {},
   "outputs": [
    {
     "data": {
      "text/plain": [
       "1"
      ]
     },
     "execution_count": 5,
     "metadata": {},
     "output_type": "execute_result"
    }
   ],
   "source": [
    "x=\"milk dairy\"\n",
    "x.index(\"i\")"
   ]
  },
  {
   "cell_type": "code",
   "execution_count": 6,
   "id": "b2907f44-d2f8-4dd2-a9d7-af1b60f50a8d",
   "metadata": {},
   "outputs": [
    {
     "data": {
      "text/plain": [
       "'mil'"
      ]
     },
     "execution_count": 6,
     "metadata": {},
     "output_type": "execute_result"
    }
   ],
   "source": [
    "x=\"milk dairy\"\n",
    "x[0:3]"
   ]
  },
  {
   "cell_type": "code",
   "execution_count": 7,
   "id": "14cdc560-8ae9-4fb4-8f73-6908c669dfb3",
   "metadata": {},
   "outputs": [
    {
     "data": {
      "text/plain": [
       "'dai'"
      ]
     },
     "execution_count": 7,
     "metadata": {},
     "output_type": "execute_result"
    }
   ],
   "source": [
    "x=\"milk dairy\"\n",
    "x[5:8]\n",
    "\n"
   ]
  },
  {
   "cell_type": "code",
   "execution_count": 8,
   "id": "674e9fba-9df3-4c2b-b3c1-e3a347a78d21",
   "metadata": {},
   "outputs": [
    {
     "data": {
      "text/plain": [
       "'ir'"
      ]
     },
     "execution_count": 8,
     "metadata": {},
     "output_type": "execute_result"
    }
   ],
   "source": [
    "x=\"milk dairy\"\n",
    "x[-3:-1]\n"
   ]
  },
  {
   "cell_type": "code",
   "execution_count": 9,
   "id": "b9de1304-113a-4788-b5a8-000eec873960",
   "metadata": {},
   "outputs": [
    {
     "data": {
      "text/plain": [
       "'MI'"
      ]
     },
     "execution_count": 9,
     "metadata": {},
     "output_type": "execute_result"
    }
   ],
   "source": [
    "x=\"milk dairy\"\n",
    "x[0:2].upper()"
   ]
  },
  {
   "cell_type": "code",
   "execution_count": 11,
   "id": "bf36beae-cbdd-49ed-96f4-f41f385cc7ac",
   "metadata": {},
   "outputs": [
    {
     "data": {
      "text/plain": [
       "' daIRY'"
      ]
     },
     "execution_count": 11,
     "metadata": {},
     "output_type": "execute_result"
    }
   ],
   "source": [
    "x=\"mIlk DAiry\"\n",
    "x[4:].swapcase()  "
   ]
  },
  {
   "cell_type": "code",
   "execution_count": 21,
   "id": "01683206-9a7f-48ef-a92c-efef52643f23",
   "metadata": {},
   "outputs": [
    {
     "data": {
      "text/plain": [
       "9"
      ]
     },
     "execution_count": 21,
     "metadata": {},
     "output_type": "execute_result"
    }
   ],
   "source": [
    "x=\"machine learning\"\n",
    "x.find(\"e\",9)"
   ]
  },
  {
   "cell_type": "code",
   "execution_count": 19,
   "id": "710c12aa-c7a7-4ac1-a310-df0f5321734a",
   "metadata": {},
   "outputs": [
    {
     "data": {
      "text/plain": [
       "6"
      ]
     },
     "execution_count": 19,
     "metadata": {},
     "output_type": "execute_result"
    }
   ],
   "source": [
    "x=\"machine learning\"\n",
    "x.find(\"e\")"
   ]
  },
  {
   "cell_type": "code",
   "execution_count": 20,
   "id": "cfdadf74-d2c2-4c9a-a527-59021147313c",
   "metadata": {},
   "outputs": [
    {
     "data": {
      "text/plain": [
       "-1"
      ]
     },
     "execution_count": 20,
     "metadata": {},
     "output_type": "execute_result"
    }
   ],
   "source": [
    "x=\"machine learning\"\n",
    "x.find(\"e\",7,9)"
   ]
  },
  {
   "cell_type": "code",
   "execution_count": 22,
   "id": "82b61b13-27b8-4eb9-8105-d3e48e7642b9",
   "metadata": {},
   "outputs": [
    {
     "data": {
      "text/plain": [
       "'**data**'"
      ]
     },
     "execution_count": 22,
     "metadata": {},
     "output_type": "execute_result"
    }
   ],
   "source": [
    "x=\"data\"\n",
    "x.center(8,\"*\")"
   ]
  },
  {
   "cell_type": "code",
   "execution_count": 23,
   "id": "739e8351-0c36-4928-a60f-92d0a21a18e5",
   "metadata": {},
   "outputs": [
    {
     "data": {
      "text/plain": [
       "'00000data'"
      ]
     },
     "execution_count": 23,
     "metadata": {},
     "output_type": "execute_result"
    }
   ],
   "source": [
    "x=\"data\"\n",
    "x.zfill(9)"
   ]
  },
  {
   "cell_type": "code",
   "execution_count": 26,
   "id": "61e58d2f-6abd-4530-8d2d-4cbeba14ca04",
   "metadata": {},
   "outputs": [
    {
     "data": {
      "text/plain": [
       "'data '"
      ]
     },
     "execution_count": 26,
     "metadata": {},
     "output_type": "execute_result"
    }
   ],
   "source": [
    "x=\" data \"\n",
    "x.lstrip()"
   ]
  },
  {
   "cell_type": "code",
   "execution_count": 25,
   "id": "0d858810-31c2-4dde-bbbe-c295f3fb8aa9",
   "metadata": {},
   "outputs": [
    {
     "data": {
      "text/plain": [
       "' data'"
      ]
     },
     "execution_count": 25,
     "metadata": {},
     "output_type": "execute_result"
    }
   ],
   "source": [
    "x=\" data \"\n",
    "x.rstrip()"
   ]
  },
  {
   "cell_type": "code",
   "execution_count": 27,
   "id": "a0085cd7-a052-4a36-a955-fca558336562",
   "metadata": {},
   "outputs": [
    {
     "data": {
      "text/plain": [
       "'data'"
      ]
     },
     "execution_count": 27,
     "metadata": {},
     "output_type": "execute_result"
    }
   ],
   "source": [
    "x=\" data \"\n",
    "x.strip()"
   ]
  },
  {
   "cell_type": "code",
   "execution_count": 28,
   "id": "3aac7e58-1bb7-4e3d-84d2-1596beeb53c0",
   "metadata": {},
   "outputs": [
    {
     "data": {
      "text/plain": [
       "'data      '"
      ]
     },
     "execution_count": 28,
     "metadata": {},
     "output_type": "execute_result"
    }
   ],
   "source": [
    "x=\"data\"\n",
    "x.ljust(10)"
   ]
  },
  {
   "cell_type": "code",
   "execution_count": 29,
   "id": "e6392958-c5ef-476a-8d68-40916d732c8d",
   "metadata": {},
   "outputs": [
    {
     "data": {
      "text/plain": [
       "'data******'"
      ]
     },
     "execution_count": 29,
     "metadata": {},
     "output_type": "execute_result"
    }
   ],
   "source": [
    "x=\"data\"\n",
    "x.ljust(10,\"*\")"
   ]
  },
  {
   "cell_type": "code",
   "execution_count": 30,
   "id": "02a7cced-7436-4c54-8f1d-e36525db39d3",
   "metadata": {},
   "outputs": [
    {
     "data": {
      "text/plain": [
       "'******data'"
      ]
     },
     "execution_count": 30,
     "metadata": {},
     "output_type": "execute_result"
    }
   ],
   "source": [
    "x=\"data\"\n",
    "x.rjust(10,\"*\")"
   ]
  },
  {
   "cell_type": "code",
   "execution_count": null,
   "id": "d086436a-6e97-4b74-be8e-7e0805ff9fa0",
   "metadata": {},
   "outputs": [],
   "source": []
  },
  {
   "cell_type": "code",
   "execution_count": null,
   "id": "b83dadd6-62c3-43f0-8e53-fee2a7c4f504",
   "metadata": {},
   "outputs": [],
   "source": []
  },
  {
   "cell_type": "code",
   "execution_count": null,
   "id": "f5fda6b7-35c2-4096-9662-32147d9e66ad",
   "metadata": {},
   "outputs": [],
   "source": []
  }
 ],
 "metadata": {
  "kernelspec": {
   "display_name": "Python 3 (ipykernel)",
   "language": "python",
   "name": "python3"
  },
  "language_info": {
   "codemirror_mode": {
    "name": "ipython",
    "version": 3
   },
   "file_extension": ".py",
   "mimetype": "text/x-python",
   "name": "python",
   "nbconvert_exporter": "python",
   "pygments_lexer": "ipython3",
   "version": "3.11.9"
  }
 },
 "nbformat": 4,
 "nbformat_minor": 5
}
